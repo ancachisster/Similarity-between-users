{
 "cells": [
  {
   "cell_type": "markdown",
   "metadata": {},
   "source": [
    "Problem:\n",
    "\n",
    "A population of U surgeons receive N notifications at specific times during the day. You are given a CSV containing a list of pairs (surgeon, notification_time) to show who receives a notification and when. The similarity between surgeons is defined as \"how close in time they tend to receive notifications\". As an example, if surgeon A and surgeon B both receive lots of notifications around 12:00 and not much during the rest of the day, they have a high mutual similarity. If surgeon C receives most notifications spread over the evening and not much around 12:00 she has low\n",
    "similarity to both surgeon A and B.\n",
    "\n",
    "Please explain how you could quantify similarity(surgeon1, surgeon2) mathematically and implement\n",
    "a program that, given the attached CSV, will find the two most similar users."
   ]
  },
  {
   "cell_type": "code",
   "execution_count": 19,
   "metadata": {},
   "outputs": [],
   "source": [
    "import pandas as pd\n",
    "import numpy as np\n",
    "import matplotlib.pyplot as plt\n",
    "from itertools import combinations"
   ]
  },
  {
   "cell_type": "code",
   "execution_count": 3,
   "metadata": {},
   "outputs": [
    {
     "data": {
      "text/html": [
       "<div>\n",
       "<style scoped>\n",
       "    .dataframe tbody tr th:only-of-type {\n",
       "        vertical-align: middle;\n",
       "    }\n",
       "\n",
       "    .dataframe tbody tr th {\n",
       "        vertical-align: top;\n",
       "    }\n",
       "\n",
       "    .dataframe thead th {\n",
       "        text-align: right;\n",
       "    }\n",
       "</style>\n",
       "<table border=\"1\" class=\"dataframe\">\n",
       "  <thead>\n",
       "    <tr style=\"text-align: right;\">\n",
       "      <th></th>\n",
       "      <th>surgeon</th>\n",
       "      <th>notification_time</th>\n",
       "    </tr>\n",
       "  </thead>\n",
       "  <tbody>\n",
       "    <tr>\n",
       "      <th>0</th>\n",
       "      <td>user4</td>\n",
       "      <td>06:39:22</td>\n",
       "    </tr>\n",
       "    <tr>\n",
       "      <th>1</th>\n",
       "      <td>user3</td>\n",
       "      <td>08:31:20</td>\n",
       "    </tr>\n",
       "    <tr>\n",
       "      <th>2</th>\n",
       "      <td>user3</td>\n",
       "      <td>14:22:14</td>\n",
       "    </tr>\n",
       "    <tr>\n",
       "      <th>3</th>\n",
       "      <td>user1</td>\n",
       "      <td>20:22:44</td>\n",
       "    </tr>\n",
       "    <tr>\n",
       "      <th>4</th>\n",
       "      <td>user3</td>\n",
       "      <td>06:02:54</td>\n",
       "    </tr>\n",
       "  </tbody>\n",
       "</table>\n",
       "</div>"
      ],
      "text/plain": [
       "  surgeon notification_time\n",
       "0   user4          06:39:22\n",
       "1   user3          08:31:20\n",
       "2   user3          14:22:14\n",
       "3   user1          20:22:44\n",
       "4   user3          06:02:54"
      ]
     },
     "execution_count": 3,
     "metadata": {},
     "output_type": "execute_result"
    }
   ],
   "source": [
    "df1 = pd.read_csv(\"./testdata_exercise1.csv\", header = None)\n",
    "col_names1 = ['surgeon', 'notification_time']\n",
    "df1.columns = col_names1\n",
    "df1.head(5)"
   ]
  },
  {
   "cell_type": "code",
   "execution_count": 4,
   "metadata": {},
   "outputs": [
    {
     "data": {
      "text/html": [
       "<div>\n",
       "<style scoped>\n",
       "    .dataframe tbody tr th:only-of-type {\n",
       "        vertical-align: middle;\n",
       "    }\n",
       "\n",
       "    .dataframe tbody tr th {\n",
       "        vertical-align: top;\n",
       "    }\n",
       "\n",
       "    .dataframe thead th {\n",
       "        text-align: right;\n",
       "    }\n",
       "</style>\n",
       "<table border=\"1\" class=\"dataframe\">\n",
       "  <thead>\n",
       "    <tr style=\"text-align: right;\">\n",
       "      <th></th>\n",
       "      <th>surgeon</th>\n",
       "      <th>notification_time</th>\n",
       "      <th>hour</th>\n",
       "    </tr>\n",
       "  </thead>\n",
       "  <tbody>\n",
       "    <tr>\n",
       "      <th>0</th>\n",
       "      <td>user4</td>\n",
       "      <td>06:39:22</td>\n",
       "      <td>6</td>\n",
       "    </tr>\n",
       "    <tr>\n",
       "      <th>1</th>\n",
       "      <td>user3</td>\n",
       "      <td>08:31:20</td>\n",
       "      <td>8</td>\n",
       "    </tr>\n",
       "    <tr>\n",
       "      <th>2</th>\n",
       "      <td>user3</td>\n",
       "      <td>14:22:14</td>\n",
       "      <td>14</td>\n",
       "    </tr>\n",
       "    <tr>\n",
       "      <th>3</th>\n",
       "      <td>user1</td>\n",
       "      <td>20:22:44</td>\n",
       "      <td>20</td>\n",
       "    </tr>\n",
       "    <tr>\n",
       "      <th>4</th>\n",
       "      <td>user3</td>\n",
       "      <td>06:02:54</td>\n",
       "      <td>6</td>\n",
       "    </tr>\n",
       "  </tbody>\n",
       "</table>\n",
       "</div>"
      ],
      "text/plain": [
       "  surgeon notification_time  hour\n",
       "0   user4          06:39:22     6\n",
       "1   user3          08:31:20     8\n",
       "2   user3          14:22:14    14\n",
       "3   user1          20:22:44    20\n",
       "4   user3          06:02:54     6"
      ]
     },
     "execution_count": 4,
     "metadata": {},
     "output_type": "execute_result"
    }
   ],
   "source": [
    "# Assigning each notification time to the hour of the day\n",
    "df1['hour'] = (pd.to_timedelta(df1['notification_time']).astype('timedelta64[h]').astype(int))\n",
    "df1['hour'] = df1['hour']\n",
    "df1.head(5)"
   ]
  },
  {
   "cell_type": "code",
   "execution_count": 5,
   "metadata": {},
   "outputs": [
    {
     "data": {
      "text/html": [
       "<div>\n",
       "<style scoped>\n",
       "    .dataframe tbody tr th:only-of-type {\n",
       "        vertical-align: middle;\n",
       "    }\n",
       "\n",
       "    .dataframe tbody tr th {\n",
       "        vertical-align: top;\n",
       "    }\n",
       "\n",
       "    .dataframe thead th {\n",
       "        text-align: right;\n",
       "    }\n",
       "</style>\n",
       "<table border=\"1\" class=\"dataframe\">\n",
       "  <thead>\n",
       "    <tr style=\"text-align: right;\">\n",
       "      <th></th>\n",
       "      <th>surgeon</th>\n",
       "      <th>hour</th>\n",
       "      <th>count</th>\n",
       "    </tr>\n",
       "  </thead>\n",
       "  <tbody>\n",
       "    <tr>\n",
       "      <th>0</th>\n",
       "      <td>user0</td>\n",
       "      <td>3</td>\n",
       "      <td>1</td>\n",
       "    </tr>\n",
       "    <tr>\n",
       "      <th>1</th>\n",
       "      <td>user0</td>\n",
       "      <td>4</td>\n",
       "      <td>2</td>\n",
       "    </tr>\n",
       "    <tr>\n",
       "      <th>2</th>\n",
       "      <td>user0</td>\n",
       "      <td>5</td>\n",
       "      <td>4</td>\n",
       "    </tr>\n",
       "    <tr>\n",
       "      <th>3</th>\n",
       "      <td>user0</td>\n",
       "      <td>6</td>\n",
       "      <td>1</td>\n",
       "    </tr>\n",
       "    <tr>\n",
       "      <th>4</th>\n",
       "      <td>user0</td>\n",
       "      <td>7</td>\n",
       "      <td>1</td>\n",
       "    </tr>\n",
       "    <tr>\n",
       "      <th>...</th>\n",
       "      <td>...</td>\n",
       "      <td>...</td>\n",
       "      <td>...</td>\n",
       "    </tr>\n",
       "    <tr>\n",
       "      <th>128</th>\n",
       "      <td>user7</td>\n",
       "      <td>12</td>\n",
       "      <td>16</td>\n",
       "    </tr>\n",
       "    <tr>\n",
       "      <th>129</th>\n",
       "      <td>user7</td>\n",
       "      <td>13</td>\n",
       "      <td>15</td>\n",
       "    </tr>\n",
       "    <tr>\n",
       "      <th>130</th>\n",
       "      <td>user7</td>\n",
       "      <td>14</td>\n",
       "      <td>8</td>\n",
       "    </tr>\n",
       "    <tr>\n",
       "      <th>131</th>\n",
       "      <td>user7</td>\n",
       "      <td>15</td>\n",
       "      <td>12</td>\n",
       "    </tr>\n",
       "    <tr>\n",
       "      <th>132</th>\n",
       "      <td>user7</td>\n",
       "      <td>16</td>\n",
       "      <td>11</td>\n",
       "    </tr>\n",
       "  </tbody>\n",
       "</table>\n",
       "<p>133 rows × 3 columns</p>\n",
       "</div>"
      ],
      "text/plain": [
       "    surgeon  hour  count\n",
       "0     user0     3      1\n",
       "1     user0     4      2\n",
       "2     user0     5      4\n",
       "3     user0     6      1\n",
       "4     user0     7      1\n",
       "..      ...   ...    ...\n",
       "128   user7    12     16\n",
       "129   user7    13     15\n",
       "130   user7    14      8\n",
       "131   user7    15     12\n",
       "132   user7    16     11\n",
       "\n",
       "[133 rows x 3 columns]"
      ]
     },
     "execution_count": 5,
     "metadata": {},
     "output_type": "execute_result"
    }
   ],
   "source": [
    "# Grouping the number of notifications by hour and by surgeon\n",
    "df1_count = df1.groupby(['surgeon','hour']).count()\n",
    "df1_count = df1_count.reset_index()\n",
    "df1_count = df1_count.rename(columns={'notification_time':'count'})\n",
    "df1_count"
   ]
  },
  {
   "cell_type": "code",
   "execution_count": 6,
   "metadata": {},
   "outputs": [
    {
     "data": {
      "text/plain": [
       "array([0.     , 0.     , 0.     , 0.03125, 0.0625 , 0.125  , 0.03125,\n",
       "       0.03125, 0.03125, 0.0625 , 0.     , 0.125  , 0.     , 0.09375,\n",
       "       0.     , 0.03125, 0.0625 , 0.03125, 0.09375, 0.03125, 0.03125,\n",
       "       0.09375, 0.03125, 0.     ])"
      ]
     },
     "execution_count": 6,
     "metadata": {},
     "output_type": "execute_result"
    }
   ],
   "source": [
    "# Now to create a 24 length vector for each surgeon that prints the number of notifications in each hour\n",
    "# The vector will also be normalised\n",
    "def foo(user, df):\n",
    "    user_df = df[df['surgeon']==user]\n",
    "    user_his = np.zeros(24)\n",
    "    \n",
    "    for index, row in user_df.iterrows():\n",
    "        hour = row['hour']\n",
    "        count = row['count']\n",
    "        user_his[hour] = count\n",
    "    \n",
    "    tot = user_his.sum()\n",
    "    norm = user_his/tot\n",
    "    \n",
    "    return norm\n",
    "\n",
    "foo('user0', df1_count)"
   ]
  },
  {
   "cell_type": "code",
   "execution_count": 7,
   "metadata": {},
   "outputs": [],
   "source": [
    "# Create a dictionary with the normalised vectors for each surgeon\n",
    "df1_24hr = {}"
   ]
  },
  {
   "cell_type": "code",
   "execution_count": 8,
   "metadata": {},
   "outputs": [],
   "source": [
    "for user in df1_count['surgeon'].unique():\n",
    "    value = foo(user, df1_count)\n",
    "    df1_24hr[user] = value"
   ]
  },
  {
   "cell_type": "code",
   "execution_count": 9,
   "metadata": {},
   "outputs": [
    {
     "data": {
      "text/plain": [
       "{'user0': array([0.     , 0.     , 0.     , 0.03125, 0.0625 , 0.125  , 0.03125,\n",
       "        0.03125, 0.03125, 0.0625 , 0.     , 0.125  , 0.     , 0.09375,\n",
       "        0.     , 0.03125, 0.0625 , 0.03125, 0.09375, 0.03125, 0.03125,\n",
       "        0.09375, 0.03125, 0.     ]),\n",
       " 'user1': array([0.03614458, 0.06024096, 0.03614458, 0.01204819, 0.03614458,\n",
       "        0.01204819, 0.03614458, 0.02409639, 0.02409639, 0.01204819,\n",
       "        0.04819277, 0.        , 0.        , 0.10843373, 0.20481928,\n",
       "        0.09638554, 0.03614458, 0.        , 0.04819277, 0.02409639,\n",
       "        0.07228916, 0.01204819, 0.01204819, 0.04819277]),\n",
       " 'user2': array([0.        , 0.        , 0.01960784, 0.03921569, 0.05882353,\n",
       "        0.01960784, 0.03921569, 0.07843137, 0.        , 0.03921569,\n",
       "        0.03921569, 0.01960784, 0.07843137, 0.03921569, 0.03921569,\n",
       "        0.03921569, 0.01960784, 0.01960784, 0.01960784, 0.25490196,\n",
       "        0.1372549 , 0.        , 0.        , 0.        ]),\n",
       " 'user3': array([0.04545455, 0.03030303, 0.01515152, 0.06060606, 0.03030303,\n",
       "        0.03030303, 0.07575758, 0.01515152, 0.03030303, 0.03030303,\n",
       "        0.01515152, 0.        , 0.03030303, 0.06060606, 0.04545455,\n",
       "        0.01515152, 0.        , 0.01515152, 0.01515152, 0.16666667,\n",
       "        0.10606061, 0.07575758, 0.06060606, 0.03030303]),\n",
       " 'user4': array([0.05128205, 0.02564103, 0.02564103, 0.02564103, 0.02564103,\n",
       "        0.        , 0.06410256, 0.01282051, 0.        , 0.01282051,\n",
       "        0.01282051, 0.05128205, 0.02564103, 0.07692308, 0.19230769,\n",
       "        0.19230769, 0.03846154, 0.01282051, 0.01282051, 0.        ,\n",
       "        0.03846154, 0.02564103, 0.06410256, 0.01282051]),\n",
       " 'user5': array([0.175, 0.15 , 0.025, 0.   , 0.   , 0.075, 0.025, 0.025, 0.075,\n",
       "        0.025, 0.025, 0.025, 0.   , 0.   , 0.   , 0.025, 0.05 , 0.05 ,\n",
       "        0.   , 0.075, 0.1  , 0.025, 0.025, 0.025]),\n",
       " 'user6': array([0.        , 0.        , 0.        , 0.        , 0.        ,\n",
       "        0.        , 0.        , 0.        , 0.        , 0.14285714,\n",
       "        0.14285714, 0.14285714, 0.08163265, 0.16326531, 0.06122449,\n",
       "        0.12244898, 0.14285714, 0.        , 0.        , 0.        ,\n",
       "        0.        , 0.        , 0.        , 0.        ]),\n",
       " 'user7': array([0.        , 0.        , 0.        , 0.        , 0.        ,\n",
       "        0.        , 0.        , 0.        , 0.        , 0.17647059,\n",
       "        0.08823529, 0.12745098, 0.15686275, 0.14705882, 0.07843137,\n",
       "        0.11764706, 0.10784314, 0.        , 0.        , 0.        ,\n",
       "        0.        , 0.        , 0.        , 0.        ])}"
      ]
     },
     "execution_count": 9,
     "metadata": {},
     "output_type": "execute_result"
    }
   ],
   "source": [
    "df1_24hr"
   ]
  },
  {
   "cell_type": "code",
   "execution_count": 12,
   "metadata": {},
   "outputs": [
    {
     "data": {
      "image/png": "[encoded data removed]",
      "text/plain": [
       "<Figure size 432x288 with 1 Axes>"
      ]
     },
     "metadata": {
      "needs_background": "light"
     },
     "output_type": "display_data"
    }
   ],
   "source": [
    "# Example of normalised histogram for surgeon user0\n",
    "plt.bar(x=np.arange(len(df1_24hr['user0'])), height=df1_24hr['user0'])\n",
    "plt.show()"
   ]
  },
  {
   "cell_type": "code",
   "execution_count": 13,
   "metadata": {},
   "outputs": [],
   "source": [
    "# KL divergence function\n",
    "def KL(P,Q):\n",
    "    epsilon = 0.00001\n",
    "    P = P+epsilon\n",
    "    Q = Q+epsilon\n",
    "\n",
    "    divergencepq = np.sum(P*np.log(P/Q))\n",
    "    divergenceqp = np.sum(Q*np.log(Q/P))\n",
    "    # added to ensure symmetry\n",
    "    return \"%.2f\" % (divergencepq + divergenceqp)"
   ]
  },
  {
   "cell_type": "code",
   "execution_count": 14,
   "metadata": {},
   "outputs": [],
   "source": [
    "# Program to find the 2 most similar users"
   ]
  },
  {
   "cell_type": "code",
   "execution_count": 15,
   "metadata": {},
   "outputs": [
    {
     "name": "stdout",
     "output_type": "stream",
     "text": [
      "['user0' 'user1' 'user2' 'user3' 'user4' 'user5' 'user6' 'user7']\n"
     ]
    }
   ],
   "source": [
    "print(df1_count['surgeon'].unique())"
   ]
  },
  {
   "cell_type": "code",
   "execution_count": 16,
   "metadata": {},
   "outputs": [],
   "source": [
    "all_combs = []"
   ]
  },
  {
   "cell_type": "code",
   "execution_count": 17,
   "metadata": {},
   "outputs": [],
   "source": [
    "# List of unique surgeons\n",
    "surgeon = df1_count['surgeon'].unique()"
   ]
  },
  {
   "cell_type": "code",
   "execution_count": 20,
   "metadata": {},
   "outputs": [],
   "source": [
    "for combo in combinations(surgeon, 2):\n",
    "    all_combs += [combo]"
   ]
  },
  {
   "cell_type": "code",
   "execution_count": 21,
   "metadata": {},
   "outputs": [],
   "source": [
    "user_df = pd.DataFrame(columns = ['Surgeon1','Surgeon2','DL score'])"
   ]
  },
  {
   "cell_type": "code",
   "execution_count": 22,
   "metadata": {},
   "outputs": [],
   "source": [
    "# Create a dataframe with the surgeon combinations and their similarity scores\n",
    "sim_dict = {'Surgeon1':[],'Surgeon2':[],'DL score':[]}\n",
    "for comb in all_combs:\n",
    "    sim = KL(df1_24hr[comb[0]], df1_24hr[comb[1]])\n",
    "    sim_dict['Surgeon1'].append(comb[0])\n",
    "    sim_dict['Surgeon2'].append(comb[1])\n",
    "    sim_dict['DL score'].append(sim)"
   ]
  },
  {
   "cell_type": "code",
   "execution_count": 23,
   "metadata": {},
   "outputs": [
    {
     "data": {
      "text/html": [
       "<div>\n",
       "<style scoped>\n",
       "    .dataframe tbody tr th:only-of-type {\n",
       "        vertical-align: middle;\n",
       "    }\n",
       "\n",
       "    .dataframe tbody tr th {\n",
       "        vertical-align: top;\n",
       "    }\n",
       "\n",
       "    .dataframe thead th {\n",
       "        text-align: right;\n",
       "    }\n",
       "</style>\n",
       "<table border=\"1\" class=\"dataframe\">\n",
       "  <thead>\n",
       "    <tr style=\"text-align: right;\">\n",
       "      <th></th>\n",
       "      <th>Surgeon1</th>\n",
       "      <th>Surgeon2</th>\n",
       "      <th>DL score</th>\n",
       "    </tr>\n",
       "  </thead>\n",
       "  <tbody>\n",
       "    <tr>\n",
       "      <th>0</th>\n",
       "      <td>user0</td>\n",
       "      <td>user1</td>\n",
       "      <td>6.12</td>\n",
       "    </tr>\n",
       "    <tr>\n",
       "      <th>1</th>\n",
       "      <td>user0</td>\n",
       "      <td>user2</td>\n",
       "      <td>4.16</td>\n",
       "    </tr>\n",
       "    <tr>\n",
       "      <th>2</th>\n",
       "      <td>user0</td>\n",
       "      <td>user3</td>\n",
       "      <td>4.22</td>\n",
       "    </tr>\n",
       "    <tr>\n",
       "      <th>3</th>\n",
       "      <td>user0</td>\n",
       "      <td>user4</td>\n",
       "      <td>5.62</td>\n",
       "    </tr>\n",
       "    <tr>\n",
       "      <th>4</th>\n",
       "      <td>user0</td>\n",
       "      <td>user5</td>\n",
       "      <td>6.74</td>\n",
       "    </tr>\n",
       "  </tbody>\n",
       "</table>\n",
       "</div>"
      ],
      "text/plain": [
       "  Surgeon1 Surgeon2 DL score\n",
       "0    user0    user1     6.12\n",
       "1    user0    user2     4.16\n",
       "2    user0    user3     4.22\n",
       "3    user0    user4     5.62\n",
       "4    user0    user5     6.74"
      ]
     },
     "execution_count": 23,
     "metadata": {},
     "output_type": "execute_result"
    }
   ],
   "source": [
    "user_df = pd.DataFrame(sim_dict)\n",
    "user_df.head()"
   ]
  },
  {
   "cell_type": "code",
   "execution_count": 24,
   "metadata": {},
   "outputs": [],
   "source": [
    "user_df['DL score'] = user_df['DL score'].astype(float)"
   ]
  },
  {
   "cell_type": "code",
   "execution_count": 25,
   "metadata": {},
   "outputs": [
    {
     "data": {
      "text/html": [
       "<div>\n",
       "<style scoped>\n",
       "    .dataframe tbody tr th:only-of-type {\n",
       "        vertical-align: middle;\n",
       "    }\n",
       "\n",
       "    .dataframe tbody tr th {\n",
       "        vertical-align: top;\n",
       "    }\n",
       "\n",
       "    .dataframe thead th {\n",
       "        text-align: right;\n",
       "    }\n",
       "</style>\n",
       "<table border=\"1\" class=\"dataframe\">\n",
       "  <thead>\n",
       "    <tr style=\"text-align: right;\">\n",
       "      <th></th>\n",
       "      <th>Surgeon1</th>\n",
       "      <th>Surgeon2</th>\n",
       "      <th>DL score</th>\n",
       "    </tr>\n",
       "  </thead>\n",
       "  <tbody>\n",
       "    <tr>\n",
       "      <th>27</th>\n",
       "      <td>user6</td>\n",
       "      <td>user7</td>\n",
       "      <td>0.1</td>\n",
       "    </tr>\n",
       "  </tbody>\n",
       "</table>\n",
       "</div>"
      ],
      "text/plain": [
       "   Surgeon1 Surgeon2  DL score\n",
       "27    user6    user7       0.1"
      ]
     },
     "execution_count": 25,
     "metadata": {},
     "output_type": "execute_result"
    }
   ],
   "source": [
    "# Print pair of users with min KL divergence (max similarity)\n",
    "user_df[user_df['DL score'] == user_df['DL score'].min()]"
   ]
  }
 ],
 "metadata": {
  "kernelspec": {
   "display_name": "Learning Env",
   "language": "python",
   "name": "learning_env"
  },
  "language_info": {
   "codemirror_mode": {
    "name": "ipython",
    "version": 3
   },
   "file_extension": ".py",
   "mimetype": "text/x-python",
   "name": "python",
   "nbconvert_exporter": "python",
   "pygments_lexer": "ipython3",
   "version": "3.7.7"
  }
 },
 "nbformat": 4,
 "nbformat_minor": 4
}
