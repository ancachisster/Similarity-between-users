{
 "cells": [
  {
   "cell_type": "code",
   "execution_count": 1,
   "metadata": {},
   "outputs": [],
   "source": [
    "import pandas as pd\n",
    "import numpy as np\n",
    "import scipy as sp\n",
    "import matplotlib.pyplot as plt\n",
    "from scipy import stats\n",
    "from scipy.stats import norm\n",
    "from datetime import datetime\n",
    "import datetime as dt\n",
    "from itertools import combinations"
   ]
  },
  {
   "cell_type": "code",
   "execution_count": 2,
   "metadata": {},
   "outputs": [
    {
     "data": {
      "text/html": [
       "<div>\n",
       "<style scoped>\n",
       "    .dataframe tbody tr th:only-of-type {\n",
       "        vertical-align: middle;\n",
       "    }\n",
       "\n",
       "    .dataframe tbody tr th {\n",
       "        vertical-align: top;\n",
       "    }\n",
       "\n",
       "    .dataframe thead th {\n",
       "        text-align: right;\n",
       "    }\n",
       "</style>\n",
       "<table border=\"1\" class=\"dataframe\">\n",
       "  <thead>\n",
       "    <tr style=\"text-align: right;\">\n",
       "      <th></th>\n",
       "      <th>surgeon</th>\n",
       "      <th>notification_time</th>\n",
       "    </tr>\n",
       "  </thead>\n",
       "  <tbody>\n",
       "    <tr>\n",
       "      <th>0</th>\n",
       "      <td>user4</td>\n",
       "      <td>06:39:22</td>\n",
       "    </tr>\n",
       "    <tr>\n",
       "      <th>1</th>\n",
       "      <td>user3</td>\n",
       "      <td>08:31:20</td>\n",
       "    </tr>\n",
       "    <tr>\n",
       "      <th>2</th>\n",
       "      <td>user3</td>\n",
       "      <td>14:22:14</td>\n",
       "    </tr>\n",
       "    <tr>\n",
       "      <th>3</th>\n",
       "      <td>user1</td>\n",
       "      <td>20:22:44</td>\n",
       "    </tr>\n",
       "    <tr>\n",
       "      <th>4</th>\n",
       "      <td>user3</td>\n",
       "      <td>06:02:54</td>\n",
       "    </tr>\n",
       "  </tbody>\n",
       "</table>\n",
       "</div>"
      ],
      "text/plain": [
       "  surgeon notification_time\n",
       "0   user4          06:39:22\n",
       "1   user3          08:31:20\n",
       "2   user3          14:22:14\n",
       "3   user1          20:22:44\n",
       "4   user3          06:02:54"
      ]
     },
     "execution_count": 2,
     "metadata": {},
     "output_type": "execute_result"
    }
   ],
   "source": [
    "# Importing test data 1\n",
    "df1 = pd.read_csv(\"./testdata_exercise1.csv\", header = None)\n",
    "col_names1 = ['surgeon', 'notification_time']\n",
    "df1.columns = col_names1\n",
    "df1.head(5)"
   ]
  },
  {
   "cell_type": "code",
   "execution_count": 3,
   "metadata": {},
   "outputs": [
    {
     "data": {
      "text/html": [
       "<div>\n",
       "<style scoped>\n",
       "    .dataframe tbody tr th:only-of-type {\n",
       "        vertical-align: middle;\n",
       "    }\n",
       "\n",
       "    .dataframe tbody tr th {\n",
       "        vertical-align: top;\n",
       "    }\n",
       "\n",
       "    .dataframe thead th {\n",
       "        text-align: right;\n",
       "    }\n",
       "</style>\n",
       "<table border=\"1\" class=\"dataframe\">\n",
       "  <thead>\n",
       "    <tr style=\"text-align: right;\">\n",
       "      <th></th>\n",
       "      <th>surgeon</th>\n",
       "      <th>notification_time</th>\n",
       "      <th>hour</th>\n",
       "    </tr>\n",
       "  </thead>\n",
       "  <tbody>\n",
       "    <tr>\n",
       "      <th>0</th>\n",
       "      <td>user4</td>\n",
       "      <td>06:39:22</td>\n",
       "      <td>6</td>\n",
       "    </tr>\n",
       "    <tr>\n",
       "      <th>1</th>\n",
       "      <td>user3</td>\n",
       "      <td>08:31:20</td>\n",
       "      <td>8</td>\n",
       "    </tr>\n",
       "    <tr>\n",
       "      <th>2</th>\n",
       "      <td>user3</td>\n",
       "      <td>14:22:14</td>\n",
       "      <td>14</td>\n",
       "    </tr>\n",
       "    <tr>\n",
       "      <th>3</th>\n",
       "      <td>user1</td>\n",
       "      <td>20:22:44</td>\n",
       "      <td>20</td>\n",
       "    </tr>\n",
       "    <tr>\n",
       "      <th>4</th>\n",
       "      <td>user3</td>\n",
       "      <td>06:02:54</td>\n",
       "      <td>6</td>\n",
       "    </tr>\n",
       "  </tbody>\n",
       "</table>\n",
       "</div>"
      ],
      "text/plain": [
       "  surgeon notification_time  hour\n",
       "0   user4          06:39:22     6\n",
       "1   user3          08:31:20     8\n",
       "2   user3          14:22:14    14\n",
       "3   user1          20:22:44    20\n",
       "4   user3          06:02:54     6"
      ]
     },
     "execution_count": 3,
     "metadata": {},
     "output_type": "execute_result"
    }
   ],
   "source": [
    "# Assigning each notification time to the hour of the day\n",
    "df1['hour'] = (pd.to_timedelta(df1['notification_time']).astype('timedelta64[h]').astype(int))\n",
    "df1['hour'] = df1['hour']\n",
    "df1.head(5)"
   ]
  },
  {
   "cell_type": "code",
   "execution_count": 4,
   "metadata": {},
   "outputs": [
    {
     "data": {
      "text/html": [
       "<div>\n",
       "<style scoped>\n",
       "    .dataframe tbody tr th:only-of-type {\n",
       "        vertical-align: middle;\n",
       "    }\n",
       "\n",
       "    .dataframe tbody tr th {\n",
       "        vertical-align: top;\n",
       "    }\n",
       "\n",
       "    .dataframe thead th {\n",
       "        text-align: right;\n",
       "    }\n",
       "</style>\n",
       "<table border=\"1\" class=\"dataframe\">\n",
       "  <thead>\n",
       "    <tr style=\"text-align: right;\">\n",
       "      <th></th>\n",
       "      <th>surgeon</th>\n",
       "      <th>hour</th>\n",
       "      <th>count</th>\n",
       "    </tr>\n",
       "  </thead>\n",
       "  <tbody>\n",
       "    <tr>\n",
       "      <th>0</th>\n",
       "      <td>user0</td>\n",
       "      <td>3</td>\n",
       "      <td>1</td>\n",
       "    </tr>\n",
       "    <tr>\n",
       "      <th>1</th>\n",
       "      <td>user0</td>\n",
       "      <td>4</td>\n",
       "      <td>2</td>\n",
       "    </tr>\n",
       "    <tr>\n",
       "      <th>2</th>\n",
       "      <td>user0</td>\n",
       "      <td>5</td>\n",
       "      <td>4</td>\n",
       "    </tr>\n",
       "    <tr>\n",
       "      <th>3</th>\n",
       "      <td>user0</td>\n",
       "      <td>6</td>\n",
       "      <td>1</td>\n",
       "    </tr>\n",
       "    <tr>\n",
       "      <th>4</th>\n",
       "      <td>user0</td>\n",
       "      <td>7</td>\n",
       "      <td>1</td>\n",
       "    </tr>\n",
       "    <tr>\n",
       "      <th>...</th>\n",
       "      <td>...</td>\n",
       "      <td>...</td>\n",
       "      <td>...</td>\n",
       "    </tr>\n",
       "    <tr>\n",
       "      <th>128</th>\n",
       "      <td>user7</td>\n",
       "      <td>12</td>\n",
       "      <td>16</td>\n",
       "    </tr>\n",
       "    <tr>\n",
       "      <th>129</th>\n",
       "      <td>user7</td>\n",
       "      <td>13</td>\n",
       "      <td>15</td>\n",
       "    </tr>\n",
       "    <tr>\n",
       "      <th>130</th>\n",
       "      <td>user7</td>\n",
       "      <td>14</td>\n",
       "      <td>8</td>\n",
       "    </tr>\n",
       "    <tr>\n",
       "      <th>131</th>\n",
       "      <td>user7</td>\n",
       "      <td>15</td>\n",
       "      <td>12</td>\n",
       "    </tr>\n",
       "    <tr>\n",
       "      <th>132</th>\n",
       "      <td>user7</td>\n",
       "      <td>16</td>\n",
       "      <td>11</td>\n",
       "    </tr>\n",
       "  </tbody>\n",
       "</table>\n",
       "<p>133 rows × 3 columns</p>\n",
       "</div>"
      ],
      "text/plain": [
       "    surgeon  hour  count\n",
       "0     user0     3      1\n",
       "1     user0     4      2\n",
       "2     user0     5      4\n",
       "3     user0     6      1\n",
       "4     user0     7      1\n",
       "..      ...   ...    ...\n",
       "128   user7    12     16\n",
       "129   user7    13     15\n",
       "130   user7    14      8\n",
       "131   user7    15     12\n",
       "132   user7    16     11\n",
       "\n",
       "[133 rows x 3 columns]"
      ]
     },
     "execution_count": 4,
     "metadata": {},
     "output_type": "execute_result"
    }
   ],
   "source": [
    "# Grouping the number of notifications by hour and by surgeon\n",
    "df1_count = df1.groupby(['surgeon','hour']).count()\n",
    "df1_count = df1_count.reset_index()\n",
    "df1_count = df1_count.rename(columns={'notification_time':'count'})\n",
    "df1_count"
   ]
  },
  {
   "cell_type": "code",
   "execution_count": 5,
   "metadata": {},
   "outputs": [
    {
     "data": {
      "text/plain": [
       "array([0.     , 0.     , 0.     , 0.03125, 0.0625 , 0.125  , 0.03125,\n",
       "       0.03125, 0.03125, 0.0625 , 0.     , 0.125  , 0.     , 0.09375,\n",
       "       0.     , 0.03125, 0.0625 , 0.03125, 0.09375, 0.03125, 0.03125,\n",
       "       0.09375, 0.03125, 0.     ])"
      ]
     },
     "execution_count": 5,
     "metadata": {},
     "output_type": "execute_result"
    }
   ],
   "source": [
    "# Now to create a 24 length vector for each surgeon that prints the number of notifications in each hour\n",
    "# The vector will also be normalised\n",
    "def foo(user, df):\n",
    "    user_df = df[df['surgeon']==user]\n",
    "    user_his = np.zeros(24)\n",
    "    \n",
    "    for index, row in user_df.iterrows():\n",
    "        hour = row['hour']\n",
    "        count = row['count']\n",
    "        user_his[hour] = count\n",
    "    \n",
    "    tot = user_his.sum()\n",
    "    norm = user_his/tot\n",
    "    \n",
    "    return norm\n",
    "\n",
    "foo('user0', df1_count)"
   ]
  },
  {
   "cell_type": "code",
   "execution_count": 6,
   "metadata": {},
   "outputs": [],
   "source": [
    "# Create a dictionary with the normalised vectors for each surgeon\n",
    "df1_24hr = {}"
   ]
  },
  {
   "cell_type": "code",
   "execution_count": 7,
   "metadata": {},
   "outputs": [],
   "source": [
    "for user in df1_count['surgeon'].unique():\n",
    "    value = foo(user, df1_count)\n",
    "    df1_24hr[user] = value"
   ]
  },
  {
   "cell_type": "code",
   "execution_count": 8,
   "metadata": {},
   "outputs": [
    {
     "data": {
      "text/plain": [
       "{'user0': array([0.     , 0.     , 0.     , 0.03125, 0.0625 , 0.125  , 0.03125,\n",
       "        0.03125, 0.03125, 0.0625 , 0.     , 0.125  , 0.     , 0.09375,\n",
       "        0.     , 0.03125, 0.0625 , 0.03125, 0.09375, 0.03125, 0.03125,\n",
       "        0.09375, 0.03125, 0.     ]),\n",
       " 'user1': array([0.03614458, 0.06024096, 0.03614458, 0.01204819, 0.03614458,\n",
       "        0.01204819, 0.03614458, 0.02409639, 0.02409639, 0.01204819,\n",
       "        0.04819277, 0.        , 0.        , 0.10843373, 0.20481928,\n",
       "        0.09638554, 0.03614458, 0.        , 0.04819277, 0.02409639,\n",
       "        0.07228916, 0.01204819, 0.01204819, 0.04819277]),\n",
       " 'user2': array([0.        , 0.        , 0.01960784, 0.03921569, 0.05882353,\n",
       "        0.01960784, 0.03921569, 0.07843137, 0.        , 0.03921569,\n",
       "        0.03921569, 0.01960784, 0.07843137, 0.03921569, 0.03921569,\n",
       "        0.03921569, 0.01960784, 0.01960784, 0.01960784, 0.25490196,\n",
       "        0.1372549 , 0.        , 0.        , 0.        ]),\n",
       " 'user3': array([0.04545455, 0.03030303, 0.01515152, 0.06060606, 0.03030303,\n",
       "        0.03030303, 0.07575758, 0.01515152, 0.03030303, 0.03030303,\n",
       "        0.01515152, 0.        , 0.03030303, 0.06060606, 0.04545455,\n",
       "        0.01515152, 0.        , 0.01515152, 0.01515152, 0.16666667,\n",
       "        0.10606061, 0.07575758, 0.06060606, 0.03030303]),\n",
       " 'user4': array([0.05128205, 0.02564103, 0.02564103, 0.02564103, 0.02564103,\n",
       "        0.        , 0.06410256, 0.01282051, 0.        , 0.01282051,\n",
       "        0.01282051, 0.05128205, 0.02564103, 0.07692308, 0.19230769,\n",
       "        0.19230769, 0.03846154, 0.01282051, 0.01282051, 0.        ,\n",
       "        0.03846154, 0.02564103, 0.06410256, 0.01282051]),\n",
       " 'user5': array([0.175, 0.15 , 0.025, 0.   , 0.   , 0.075, 0.025, 0.025, 0.075,\n",
       "        0.025, 0.025, 0.025, 0.   , 0.   , 0.   , 0.025, 0.05 , 0.05 ,\n",
       "        0.   , 0.075, 0.1  , 0.025, 0.025, 0.025]),\n",
       " 'user6': array([0.        , 0.        , 0.        , 0.        , 0.        ,\n",
       "        0.        , 0.        , 0.        , 0.        , 0.14285714,\n",
       "        0.14285714, 0.14285714, 0.08163265, 0.16326531, 0.06122449,\n",
       "        0.12244898, 0.14285714, 0.        , 0.        , 0.        ,\n",
       "        0.        , 0.        , 0.        , 0.        ]),\n",
       " 'user7': array([0.        , 0.        , 0.        , 0.        , 0.        ,\n",
       "        0.        , 0.        , 0.        , 0.        , 0.17647059,\n",
       "        0.08823529, 0.12745098, 0.15686275, 0.14705882, 0.07843137,\n",
       "        0.11764706, 0.10784314, 0.        , 0.        , 0.        ,\n",
       "        0.        , 0.        , 0.        , 0.        ])}"
      ]
     },
     "execution_count": 8,
     "metadata": {},
     "output_type": "execute_result"
    }
   ],
   "source": [
    "df1_24hr"
   ]
  },
  {
   "cell_type": "code",
   "execution_count": 9,
   "metadata": {},
   "outputs": [
    {
     "data": {
      "image/png": "[encoded data removed]",
      "text/plain": [
       "<Figure size 432x288 with 1 Axes>"
      ]
     },
     "metadata": {
      "needs_background": "light"
     },
     "output_type": "display_data"
    }
   ],
   "source": [
    "# Example of normalised histogram for surgeon user0\n",
    "plt.bar(x=np.arange(len(df1_24hr['user0'])), height=df1_24hr['user0'])\n",
    "plt.show()"
   ]
  },
  {
   "cell_type": "code",
   "execution_count": 10,
   "metadata": {},
   "outputs": [],
   "source": [
    "# KL divergence function\n",
    "def KL(P,Q):\n",
    "    epsilon = 0.00001\n",
    "    P = P+epsilon\n",
    "    Q = Q+epsilon\n",
    "\n",
    "    divergencepq = np.sum(P*np.log(P/Q))\n",
    "    divergenceqp = np.sum(Q*np.log(Q/P))\n",
    "    # added to ensure symmetry\n",
    "    return \"%.2f\" % (divergencepq + divergenceqp)"
   ]
  },
  {
   "cell_type": "code",
   "execution_count": 11,
   "metadata": {},
   "outputs": [],
   "source": [
    "# Program to find the 2 most similar users"
   ]
  },
  {
   "cell_type": "code",
   "execution_count": 12,
   "metadata": {},
   "outputs": [
    {
     "name": "stdout",
     "output_type": "stream",
     "text": [
      "['user0' 'user1' 'user2' 'user3' 'user4' 'user5' 'user6' 'user7']\n"
     ]
    }
   ],
   "source": [
    "print(df1_count['surgeon'].unique())"
   ]
  },
  {
   "cell_type": "code",
   "execution_count": 13,
   "metadata": {},
   "outputs": [],
   "source": [
    "all_combs = []"
   ]
  },
  {
   "cell_type": "code",
   "execution_count": 14,
   "metadata": {},
   "outputs": [],
   "source": [
    "# List of unique surgeons\n",
    "surgeon = df1_count['surgeon'].unique()"
   ]
  },
  {
   "cell_type": "code",
   "execution_count": 15,
   "metadata": {},
   "outputs": [],
   "source": [
    "for combo in combinations(surgeon, 2):\n",
    "    all_combs += [combo]"
   ]
  },
  {
   "cell_type": "code",
   "execution_count": 16,
   "metadata": {},
   "outputs": [],
   "source": [
    "user_df = pd.DataFrame(columns = ['Surgeon1','Surgeon2','DL score'])"
   ]
  },
  {
   "cell_type": "code",
   "execution_count": 17,
   "metadata": {},
   "outputs": [],
   "source": [
    "# Create a dataframe with the surgeon combinations and their similarity scores\n",
    "sim_dict = {'Surgeon1':[],'Surgeon2':[],'DL score':[]}\n",
    "for comb in all_combs:\n",
    "    sim = KL(df1_24hr[comb[0]], df1_24hr[comb[1]])\n",
    "    sim_dict['Surgeon1'].append(comb[0])\n",
    "    sim_dict['Surgeon2'].append(comb[1])\n",
    "    sim_dict['DL score'].append(sim)"
   ]
  },
  {
   "cell_type": "code",
   "execution_count": 18,
   "metadata": {},
   "outputs": [
    {
     "data": {
      "text/html": [
       "<div>\n",
       "<style scoped>\n",
       "    .dataframe tbody tr th:only-of-type {\n",
       "        vertical-align: middle;\n",
       "    }\n",
       "\n",
       "    .dataframe tbody tr th {\n",
       "        vertical-align: top;\n",
       "    }\n",
       "\n",
       "    .dataframe thead th {\n",
       "        text-align: right;\n",
       "    }\n",
       "</style>\n",
       "<table border=\"1\" class=\"dataframe\">\n",
       "  <thead>\n",
       "    <tr style=\"text-align: right;\">\n",
       "      <th></th>\n",
       "      <th>Surgeon1</th>\n",
       "      <th>Surgeon2</th>\n",
       "      <th>DL score</th>\n",
       "    </tr>\n",
       "  </thead>\n",
       "  <tbody>\n",
       "    <tr>\n",
       "      <th>0</th>\n",
       "      <td>user0</td>\n",
       "      <td>user1</td>\n",
       "      <td>6.12</td>\n",
       "    </tr>\n",
       "    <tr>\n",
       "      <th>1</th>\n",
       "      <td>user0</td>\n",
       "      <td>user2</td>\n",
       "      <td>4.16</td>\n",
       "    </tr>\n",
       "    <tr>\n",
       "      <th>2</th>\n",
       "      <td>user0</td>\n",
       "      <td>user3</td>\n",
       "      <td>4.22</td>\n",
       "    </tr>\n",
       "    <tr>\n",
       "      <th>3</th>\n",
       "      <td>user0</td>\n",
       "      <td>user4</td>\n",
       "      <td>5.62</td>\n",
       "    </tr>\n",
       "    <tr>\n",
       "      <th>4</th>\n",
       "      <td>user0</td>\n",
       "      <td>user5</td>\n",
       "      <td>6.74</td>\n",
       "    </tr>\n",
       "  </tbody>\n",
       "</table>\n",
       "</div>"
      ],
      "text/plain": [
       "  Surgeon1 Surgeon2 DL score\n",
       "0    user0    user1     6.12\n",
       "1    user0    user2     4.16\n",
       "2    user0    user3     4.22\n",
       "3    user0    user4     5.62\n",
       "4    user0    user5     6.74"
      ]
     },
     "execution_count": 18,
     "metadata": {},
     "output_type": "execute_result"
    }
   ],
   "source": [
    "user_df = pd.DataFrame(sim_dict)\n",
    "user_df.head()"
   ]
  },
  {
   "cell_type": "code",
   "execution_count": 19,
   "metadata": {},
   "outputs": [],
   "source": [
    "user_df['DL score'] = user_df['DL score'].astype(float)"
   ]
  },
  {
   "cell_type": "code",
   "execution_count": 20,
   "metadata": {},
   "outputs": [
    {
     "data": {
      "text/html": [
       "<div>\n",
       "<style scoped>\n",
       "    .dataframe tbody tr th:only-of-type {\n",
       "        vertical-align: middle;\n",
       "    }\n",
       "\n",
       "    .dataframe tbody tr th {\n",
       "        vertical-align: top;\n",
       "    }\n",
       "\n",
       "    .dataframe thead th {\n",
       "        text-align: right;\n",
       "    }\n",
       "</style>\n",
       "<table border=\"1\" class=\"dataframe\">\n",
       "  <thead>\n",
       "    <tr style=\"text-align: right;\">\n",
       "      <th></th>\n",
       "      <th>Surgeon1</th>\n",
       "      <th>Surgeon2</th>\n",
       "      <th>DL score</th>\n",
       "    </tr>\n",
       "  </thead>\n",
       "  <tbody>\n",
       "    <tr>\n",
       "      <th>27</th>\n",
       "      <td>user6</td>\n",
       "      <td>user7</td>\n",
       "      <td>0.1</td>\n",
       "    </tr>\n",
       "  </tbody>\n",
       "</table>\n",
       "</div>"
      ],
      "text/plain": [
       "   Surgeon1 Surgeon2  DL score\n",
       "27    user6    user7       0.1"
      ]
     },
     "execution_count": 20,
     "metadata": {},
     "output_type": "execute_result"
    }
   ],
   "source": [
    "# Print pair of users with min KL divergence (max similarity)\n",
    "user_df[user_df['DL score'] == user_df['DL score'].min()]"
   ]
  },
  {
   "cell_type": "code",
   "execution_count": 21,
   "metadata": {},
   "outputs": [
    {
     "data": {
      "text/html": [
       "<div>\n",
       "<style scoped>\n",
       "    .dataframe tbody tr th:only-of-type {\n",
       "        vertical-align: middle;\n",
       "    }\n",
       "\n",
       "    .dataframe tbody tr th {\n",
       "        vertical-align: top;\n",
       "    }\n",
       "\n",
       "    .dataframe thead th {\n",
       "        text-align: right;\n",
       "    }\n",
       "</style>\n",
       "<table border=\"1\" class=\"dataframe\">\n",
       "  <thead>\n",
       "    <tr style=\"text-align: right;\">\n",
       "      <th></th>\n",
       "      <th>surgeon</th>\n",
       "      <th>notifications_per_day</th>\n",
       "    </tr>\n",
       "  </thead>\n",
       "  <tbody>\n",
       "    <tr>\n",
       "      <th>0</th>\n",
       "      <td>user000</td>\n",
       "      <td>105</td>\n",
       "    </tr>\n",
       "    <tr>\n",
       "      <th>1</th>\n",
       "      <td>user001</td>\n",
       "      <td>186</td>\n",
       "    </tr>\n",
       "    <tr>\n",
       "      <th>2</th>\n",
       "      <td>user002</td>\n",
       "      <td>74</td>\n",
       "    </tr>\n",
       "    <tr>\n",
       "      <th>3</th>\n",
       "      <td>user003</td>\n",
       "      <td>193</td>\n",
       "    </tr>\n",
       "    <tr>\n",
       "      <th>4</th>\n",
       "      <td>user004</td>\n",
       "      <td>149</td>\n",
       "    </tr>\n",
       "    <tr>\n",
       "      <th>5</th>\n",
       "      <td>user005</td>\n",
       "      <td>196</td>\n",
       "    </tr>\n",
       "    <tr>\n",
       "      <th>6</th>\n",
       "      <td>user006</td>\n",
       "      <td>160</td>\n",
       "    </tr>\n",
       "    <tr>\n",
       "      <th>7</th>\n",
       "      <td>user007</td>\n",
       "      <td>125</td>\n",
       "    </tr>\n",
       "    <tr>\n",
       "      <th>8</th>\n",
       "      <td>user008</td>\n",
       "      <td>129</td>\n",
       "    </tr>\n",
       "    <tr>\n",
       "      <th>9</th>\n",
       "      <td>user009</td>\n",
       "      <td>5</td>\n",
       "    </tr>\n",
       "  </tbody>\n",
       "</table>\n",
       "</div>"
      ],
      "text/plain": [
       "   surgeon  notifications_per_day\n",
       "0  user000                    105\n",
       "1  user001                    186\n",
       "2  user002                     74\n",
       "3  user003                    193\n",
       "4  user004                    149\n",
       "5  user005                    196\n",
       "6  user006                    160\n",
       "7  user007                    125\n",
       "8  user008                    129\n",
       "9  user009                      5"
      ]
     },
     "execution_count": 21,
     "metadata": {},
     "output_type": "execute_result"
    }
   ],
   "source": [
    "# Question 2 - load dataset\n",
    "\n",
    "df2 = pd.read_csv(\"./testdata_exercise2.csv\", header = None)\n",
    "col_names2 = ['surgeon', 'notifications_per_day']\n",
    "df2.columns = col_names2\n",
    "df2.head(10)"
   ]
  },
  {
   "cell_type": "code",
   "execution_count": 22,
   "metadata": {},
   "outputs": [
    {
     "data": {
      "text/html": [
       "<div>\n",
       "<style scoped>\n",
       "    .dataframe tbody tr th:only-of-type {\n",
       "        vertical-align: middle;\n",
       "    }\n",
       "\n",
       "    .dataframe tbody tr th {\n",
       "        vertical-align: top;\n",
       "    }\n",
       "\n",
       "    .dataframe thead th {\n",
       "        text-align: right;\n",
       "    }\n",
       "</style>\n",
       "<table border=\"1\" class=\"dataframe\">\n",
       "  <thead>\n",
       "    <tr style=\"text-align: right;\">\n",
       "      <th></th>\n",
       "      <th>surgeon</th>\n",
       "      <th>notifications_per_day</th>\n",
       "    </tr>\n",
       "  </thead>\n",
       "  <tbody>\n",
       "    <tr>\n",
       "      <th>160</th>\n",
       "      <td>user160</td>\n",
       "      <td>299</td>\n",
       "    </tr>\n",
       "    <tr>\n",
       "      <th>284</th>\n",
       "      <td>user284</td>\n",
       "      <td>299</td>\n",
       "    </tr>\n",
       "    <tr>\n",
       "      <th>407</th>\n",
       "      <td>user407</td>\n",
       "      <td>298</td>\n",
       "    </tr>\n",
       "    <tr>\n",
       "      <th>215</th>\n",
       "      <td>user215</td>\n",
       "      <td>298</td>\n",
       "    </tr>\n",
       "    <tr>\n",
       "      <th>490</th>\n",
       "      <td>user490</td>\n",
       "      <td>298</td>\n",
       "    </tr>\n",
       "    <tr>\n",
       "      <th>...</th>\n",
       "      <td>...</td>\n",
       "      <td>...</td>\n",
       "    </tr>\n",
       "    <tr>\n",
       "      <th>27</th>\n",
       "      <td>user027</td>\n",
       "      <td>3</td>\n",
       "    </tr>\n",
       "    <tr>\n",
       "      <th>427</th>\n",
       "      <td>user427</td>\n",
       "      <td>2</td>\n",
       "    </tr>\n",
       "    <tr>\n",
       "      <th>298</th>\n",
       "      <td>user298</td>\n",
       "      <td>2</td>\n",
       "    </tr>\n",
       "    <tr>\n",
       "      <th>411</th>\n",
       "      <td>user411</td>\n",
       "      <td>1</td>\n",
       "    </tr>\n",
       "    <tr>\n",
       "      <th>162</th>\n",
       "      <td>user162</td>\n",
       "      <td>0</td>\n",
       "    </tr>\n",
       "  </tbody>\n",
       "</table>\n",
       "<p>499 rows × 2 columns</p>\n",
       "</div>"
      ],
      "text/plain": [
       "     surgeon  notifications_per_day\n",
       "160  user160                    299\n",
       "284  user284                    299\n",
       "407  user407                    298\n",
       "215  user215                    298\n",
       "490  user490                    298\n",
       "..       ...                    ...\n",
       "27   user027                      3\n",
       "427  user427                      2\n",
       "298  user298                      2\n",
       "411  user411                      1\n",
       "162  user162                      0\n",
       "\n",
       "[499 rows x 2 columns]"
      ]
     },
     "execution_count": 22,
     "metadata": {},
     "output_type": "execute_result"
    }
   ],
   "source": [
    "df2.sort_values(by='notifications_per_day', ascending=False)"
   ]
  },
  {
   "cell_type": "code",
   "execution_count": 23,
   "metadata": {},
   "outputs": [],
   "source": [
    "# This is the standard bubblesort algorithm that sorts an array\n",
    "\n",
    "def bubbleSort(nums):\n",
    "    n = len(nums)\n",
    "    for i in range(n):\n",
    "        for j in range(0, n - i - 1):\n",
    "            if nums[j] > nums[j + 1]:\n",
    "                nums[j], nums[j + 1] = nums[j + 1], nums[j]\n",
    "    return nums"
   ]
  },
  {
   "cell_type": "code",
   "execution_count": 24,
   "metadata": {},
   "outputs": [],
   "source": [
    "# This is my bubble sorting algorithm for this pandas dataframe\n",
    "\n",
    "def bubbleSortDataframe(df):\n",
    "    n = len(df)\n",
    "    for i in range(n):\n",
    "        for j in range(0, n - i - 1):\n",
    "            if df.iloc[j]['notifications_per_day'] > df.iloc[j + 1]['notifications_per_day']:\n",
    "                df.iloc[j], df.iloc[j + 1] = df.iloc[j + 1], df.iloc[j]\n",
    "\n",
    "    return df"
   ]
  },
  {
   "cell_type": "code",
   "execution_count": 25,
   "metadata": {},
   "outputs": [],
   "source": [
    "# Turning the not_per_day column into an array \n",
    "nums = np.array(df2['notifications_per_day'])"
   ]
  },
  {
   "cell_type": "code",
   "execution_count": 26,
   "metadata": {},
   "outputs": [
    {
     "name": "stdout",
     "output_type": "stream",
     "text": [
      "[105 186  74 193 149 196 160 125 129   5 139 220  37 217   9  38  27  79\n",
      "  17  40 287  14 203 197 184 108 238   3 261  51 276 176  24 115  27  98\n",
      " 121 131 119 229 169 261 243  89 171 192 181  41 236 282  21 139 217 166\n",
      " 102  86 168 207  35 171 272 213 229  63 130  31 243 181  68 157  29 201\n",
      "  66 239 277  94   3  84 118 173  92  43 223 269 243 191 275  55 272 198\n",
      " 215 210 150 181   5  22 197 182  16  21  16  49 164  65  76  76 172 216\n",
      " 219   5  76 173 294  81  75  85 230  30 189  12 103  31  42 261 241 249\n",
      "  55 201  55 122 215 244 182  92  45 158 291 253 246 288 260 254   6 170\n",
      "  35 239 197  32  40 174 145 112 172 255 193 157  34  21 186 218 299  18\n",
      "   0 194 278  28 142  79  82 114 102  95  22  21  88 216  59 227 227  66\n",
      "  48 241  32 161 165 227  24 120 196 148 130 239 279 229  94 290  64  63\n",
      "  70 237  12  23 133 106 121  75 142 202  89 139  44 250 230  24 258 298\n",
      " 292 295  11  18 177 252 193  23  67  56 152 256 273 159 156 165 218 280\n",
      " 100 176 140 113  18 140 231 141 159 226 225  18  56 250   7 160  60 206\n",
      "  98 216 184 151  98 173  89 136  10 292  83 214  72 119 180 116 246  98\n",
      "  56 225  54 241  94 259  76 218  63 159 110  10   4  46 299  58 209  19\n",
      " 289  29 291 171 233 198   8  19  20  83   2  56 189 161 126  72 144 126\n",
      " 121 255 142 199 178 290 119 228 164  89  81 169  51 113 127 129  98 160\n",
      " 100  75 255  46 188 268 140 262 170 286 234 130 133 279  87  64 186 160\n",
      " 193 209 214 278 190 141 105 139 115 163  39 184 264  92 297 181 183 202\n",
      " 267 147  98 142 284  64  15 163 103 172 111 141  42 254 195 142 266  66\n",
      "  78 108  80  42  56  60 133  41  91 254 137 191 130  34  80 266 259  23\n",
      "  43  25  92 212 266 130 155 202  49 287 152 298 129 172  55   1 120  16\n",
      " 174 257 213  88  36 217 140 133 131 193 210 116  14   2  68  46 214 138\n",
      " 116 271 268  35  67  93 165 280  20  61 251  34  73 198 194 144 171 228\n",
      " 195 287 178 209 211  79  14 284 164  75 261 231 168 123  62 124   9 101\n",
      "  65 283 199  64  58 269 134 184 128 148 212  97 158 139  66  48 109  74\n",
      " 154  55 209 168 298  34 148  67 165  63 128 119  44]\n"
     ]
    }
   ],
   "source": [
    "# Show the unordered array\n",
    "print(nums)"
   ]
  },
  {
   "cell_type": "code",
   "execution_count": 27,
   "metadata": {},
   "outputs": [
    {
     "data": {
      "text/plain": [
       "array([  0,   1,   2,   2,   3,   3,   4,   5,   5,   5,   6,   7,   8,\n",
       "         9,   9,  10,  10,  11,  12,  12,  14,  14,  14,  15,  16,  16,\n",
       "        16,  17,  18,  18,  18,  18,  19,  19,  20,  20,  21,  21,  21,\n",
       "        21,  22,  22,  23,  23,  23,  24,  24,  24,  25,  27,  27,  28,\n",
       "        29,  29,  30,  31,  31,  32,  32,  34,  34,  34,  34,  35,  35,\n",
       "        35,  36,  37,  38,  39,  40,  40,  41,  41,  42,  42,  42,  43,\n",
       "        43,  44,  44,  45,  46,  46,  46,  48,  48,  49,  49,  51,  51,\n",
       "        54,  55,  55,  55,  55,  55,  56,  56,  56,  56,  56,  58,  58,\n",
       "        59,  60,  60,  61,  62,  63,  63,  63,  63,  64,  64,  64,  64,\n",
       "        65,  65,  66,  66,  66,  66,  67,  67,  67,  68,  68,  70,  72,\n",
       "        72,  73,  74,  74,  75,  75,  75,  75,  76,  76,  76,  76,  78,\n",
       "        79,  79,  79,  80,  80,  81,  81,  82,  83,  83,  84,  85,  86,\n",
       "        87,  88,  88,  89,  89,  89,  89,  91,  92,  92,  92,  92,  93,\n",
       "        94,  94,  94,  95,  97,  98,  98,  98,  98,  98,  98, 100, 100,\n",
       "       101, 102, 102, 103, 103, 105, 105, 106, 108, 108, 109, 110, 111,\n",
       "       112, 113, 113, 114, 115, 115, 116, 116, 116, 118, 119, 119, 119,\n",
       "       119, 120, 120, 121, 121, 121, 122, 123, 124, 125, 126, 126, 127,\n",
       "       128, 128, 129, 129, 129, 130, 130, 130, 130, 130, 131, 131, 133,\n",
       "       133, 133, 133, 134, 136, 137, 138, 139, 139, 139, 139, 139, 140,\n",
       "       140, 140, 140, 141, 141, 141, 142, 142, 142, 142, 142, 144, 144,\n",
       "       145, 147, 148, 148, 148, 149, 150, 151, 152, 152, 154, 155, 156,\n",
       "       157, 157, 158, 158, 159, 159, 159, 160, 160, 160, 160, 161, 161,\n",
       "       163, 163, 164, 164, 164, 165, 165, 165, 165, 166, 168, 168, 168,\n",
       "       169, 169, 170, 170, 171, 171, 171, 171, 172, 172, 172, 172, 173,\n",
       "       173, 173, 174, 174, 176, 176, 177, 178, 178, 180, 181, 181, 181,\n",
       "       181, 182, 182, 183, 184, 184, 184, 184, 186, 186, 186, 188, 189,\n",
       "       189, 190, 191, 191, 192, 193, 193, 193, 193, 193, 194, 194, 195,\n",
       "       195, 196, 196, 197, 197, 197, 198, 198, 198, 199, 199, 201, 201,\n",
       "       202, 202, 202, 203, 206, 207, 209, 209, 209, 209, 210, 210, 211,\n",
       "       212, 212, 213, 213, 214, 214, 214, 215, 215, 216, 216, 216, 217,\n",
       "       217, 217, 218, 218, 218, 219, 220, 223, 225, 225, 226, 227, 227,\n",
       "       227, 228, 228, 229, 229, 229, 230, 230, 231, 231, 233, 234, 236,\n",
       "       237, 238, 239, 239, 239, 241, 241, 241, 243, 243, 243, 244, 246,\n",
       "       246, 249, 250, 250, 251, 252, 253, 254, 254, 254, 255, 255, 255,\n",
       "       256, 257, 258, 259, 259, 260, 261, 261, 261, 261, 262, 264, 266,\n",
       "       266, 266, 267, 268, 268, 269, 269, 271, 272, 272, 273, 275, 276,\n",
       "       277, 278, 278, 279, 279, 280, 280, 282, 283, 284, 284, 286, 287,\n",
       "       287, 287, 288, 289, 290, 290, 291, 291, 292, 292, 294, 295, 297,\n",
       "       298, 298, 298, 299, 299])"
      ]
     },
     "execution_count": 27,
     "metadata": {},
     "output_type": "execute_result"
    }
   ],
   "source": [
    "# Sorted array\n",
    "bubbleSort(nums)"
   ]
  },
  {
   "cell_type": "code",
   "execution_count": 28,
   "metadata": {},
   "outputs": [
    {
     "data": {
      "text/html": [
       "<div>\n",
       "<style scoped>\n",
       "    .dataframe tbody tr th:only-of-type {\n",
       "        vertical-align: middle;\n",
       "    }\n",
       "\n",
       "    .dataframe tbody tr th {\n",
       "        vertical-align: top;\n",
       "    }\n",
       "\n",
       "    .dataframe thead th {\n",
       "        text-align: right;\n",
       "    }\n",
       "</style>\n",
       "<table border=\"1\" class=\"dataframe\">\n",
       "  <thead>\n",
       "    <tr style=\"text-align: right;\">\n",
       "      <th></th>\n",
       "      <th>surgeon</th>\n",
       "      <th>notifications_per_day</th>\n",
       "    </tr>\n",
       "  </thead>\n",
       "  <tbody>\n",
       "    <tr>\n",
       "      <th>0</th>\n",
       "      <td>user162</td>\n",
       "      <td>0</td>\n",
       "    </tr>\n",
       "    <tr>\n",
       "      <th>1</th>\n",
       "      <td>user411</td>\n",
       "      <td>1</td>\n",
       "    </tr>\n",
       "    <tr>\n",
       "      <th>2</th>\n",
       "      <td>user298</td>\n",
       "      <td>2</td>\n",
       "    </tr>\n",
       "    <tr>\n",
       "      <th>3</th>\n",
       "      <td>user427</td>\n",
       "      <td>2</td>\n",
       "    </tr>\n",
       "    <tr>\n",
       "      <th>4</th>\n",
       "      <td>user027</td>\n",
       "      <td>3</td>\n",
       "    </tr>\n",
       "    <tr>\n",
       "      <th>...</th>\n",
       "      <td>...</td>\n",
       "      <td>...</td>\n",
       "    </tr>\n",
       "    <tr>\n",
       "      <th>494</th>\n",
       "      <td>user215</td>\n",
       "      <td>298</td>\n",
       "    </tr>\n",
       "    <tr>\n",
       "      <th>495</th>\n",
       "      <td>user407</td>\n",
       "      <td>298</td>\n",
       "    </tr>\n",
       "    <tr>\n",
       "      <th>496</th>\n",
       "      <td>user490</td>\n",
       "      <td>298</td>\n",
       "    </tr>\n",
       "    <tr>\n",
       "      <th>497</th>\n",
       "      <td>user160</td>\n",
       "      <td>299</td>\n",
       "    </tr>\n",
       "    <tr>\n",
       "      <th>498</th>\n",
       "      <td>user284</td>\n",
       "      <td>299</td>\n",
       "    </tr>\n",
       "  </tbody>\n",
       "</table>\n",
       "<p>499 rows × 2 columns</p>\n",
       "</div>"
      ],
      "text/plain": [
       "     surgeon  notifications_per_day\n",
       "0    user162                      0\n",
       "1    user411                      1\n",
       "2    user298                      2\n",
       "3    user427                      2\n",
       "4    user027                      3\n",
       "..       ...                    ...\n",
       "494  user215                    298\n",
       "495  user407                    298\n",
       "496  user490                    298\n",
       "497  user160                    299\n",
       "498  user284                    299\n",
       "\n",
       "[499 rows x 2 columns]"
      ]
     },
     "execution_count": 28,
     "metadata": {},
     "output_type": "execute_result"
    }
   ],
   "source": [
    "# Sorting the df using bubbleSortDataframe function \n",
    "bubbleSortDataframe(df2)"
   ]
  }
 ],
 "metadata": {
  "kernelspec": {
   "display_name": "Learning Env",
   "language": "python",
   "name": "learning_env"
  },
  "language_info": {
   "codemirror_mode": {
    "name": "ipython",
    "version": 3
   },
   "file_extension": ".py",
   "mimetype": "text/x-python",
   "name": "python",
   "nbconvert_exporter": "python",
   "pygments_lexer": "ipython3",
   "version": "3.7.7"
  }
 },
 "nbformat": 4,
 "nbformat_minor": 4
}
